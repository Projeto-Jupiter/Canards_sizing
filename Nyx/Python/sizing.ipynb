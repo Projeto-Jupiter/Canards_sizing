{
 "cells": [
  {
   "cell_type": "code",
   "execution_count": 1,
   "metadata": {},
   "outputs": [],
   "source": [
    "import numpy as np\n",
    "from numpy import genfromtxt\n",
    "from rocketpy import Function\n",
    "import matplotlib.pyplot as plt\n",
    "plt.style.use('seaborn')"
   ]
  },
  {
   "cell_type": "markdown",
   "metadata": {},
   "source": [
    "## Definindo as funções para manipução de dados das canards"
   ]
  },
  {
   "cell_type": "code",
   "execution_count": 2,
   "metadata": {},
   "outputs": [],
   "source": [
    "class Canard:\n",
    "    def __init__(self, type, n, dict, radius, airfoil):\n",
    "        self.type = type\n",
    "        self.n = n\n",
    "        self.dict = dict\n",
    "        self.radius = radius\n",
    "        self.airfoil = airfoil\n",
    "        \n",
    "        self.area = np.pi * radius**2\n",
    "        self.addFins()\n",
    "\n",
    "        #self.distanceRocketFins = distanceToCM\n",
    "        Cr = dict['rootChord']\n",
    "        s = dict['span']\n",
    "        if self.type == 'trapezoildal':\n",
    "            Ct = dict['tipChord']\n",
    "            XFins = ( ((Cr - Ct) / 3) * ((Cr + 2 * Ct) / (Cr + Ct))\n",
    "                    + (1 / 6) * (Cr + Ct - Cr * Ct / (Cr + Ct)))\n",
    "        else:\n",
    "            XFins = (0.288 * Cr)\n",
    "            \n",
    "        self.cpFins= XFins\n",
    "\n",
    "    def addFins(self):\n",
    "        \n",
    "        # Retrieve parameters for calculations\n",
    "        Cr = self.dict['rootChord']\n",
    "        s = self.dict['span']\n",
    "        radius = self.radius\n",
    "        d = 2 * self.radius\n",
    "        Aref = np.pi * radius**2\n",
    "        if self.type == 'trapezoildal':\n",
    "            Ct = self.dict['tipChord']\n",
    "            Af = (Cr + Ct) * s / 2  # fin area\n",
    "            AR = 2 * (s ** 2) / Af  # AspeCt ratio\n",
    "            gamac = np.arctan((Cr - Ct) / (2 * s))  # mid chord angle\n",
    "            Yr = Cr + Ct\n",
    "            Lf = np.sqrt((Cr / 2 - Ct / 2) ** 2 + s ** 2)\n",
    "            trapezoidalConstant = (\n",
    "                (Cr + 3 * Ct) * s ** 3\n",
    "                + 4 * (Cr + 2 * Ct) * radius * s ** 2\n",
    "                + 6 * (Cr + Ct) * s * radius ** 2\n",
    "            ) / 12\n",
    "            self.trapezoidalConstant = trapezoidalConstant\n",
    "        else:\n",
    "            Af = (np.pi * Cr / 2 * s) / 2 # fin area\n",
    "            AR = 2 * (s ** 2) / Af  # Aspeself.tipChord ratio\n",
    "            gamac = 0  # mid chord angle\n",
    "            ellipsoidalConstant = Cr * s * (3*np.pi*s**2 + 32 *radius * s + 12*np.pi*radius**2) / 48\n",
    "            self.ellipsoidalConstant = ellipsoidalConstant \n",
    "\n",
    "        # Fin–body interference correction parameters\n",
    "        tau = (s + radius) / radius\n",
    "        if self.type == 'trapezoildal':\n",
    "            λ = Ct / Cr\n",
    "        else:\n",
    "            CtE = Cr * (np.sqrt(9*np.pi**2 - 64)-np.pi)/(2*np.pi - np.sqrt(9*np.pi**2 -64))\n",
    "            λ = CtE / Cr\n",
    "\n",
    "        liftInterferenceFactor = 1 + 1 / tau\n",
    "        rollForcingInterferenceFactor = (1 / np.pi ** 2) * (\n",
    "            (np.pi ** 2 / 4) * ((tau + 1) ** 2 / tau ** 2)\n",
    "            + ((np.pi * (tau ** 2 + 1) ** 2) / (tau ** 2 * (tau - 1) ** 2))\n",
    "            * np.arcsin((tau ** 2 - 1) / (tau ** 2 + 1))\n",
    "            - (2 * np.pi * (tau + 1)) / (tau * (tau - 1))\n",
    "            + ((tau ** 2 + 1) ** 2)\n",
    "            / (tau ** 2 * (tau - 1) ** 2)\n",
    "            * (np.arcsin((tau ** 2 - 1) / (tau ** 2 + 1))) ** 2\n",
    "            - (4 * (tau + 1))\n",
    "            / (tau * (tau - 1))\n",
    "            * np.arcsin((tau ** 2 - 1) / (tau ** 2 + 1))\n",
    "            + (8 / (tau - 1) ** 2) * np.log((tau ** 2 + 1) / (2 * tau))\n",
    "        )\n",
    "        rollDampingInterferenceFactor = 1 + (\n",
    "            ((tau - λ) / (tau)) - ((1 - λ) / (tau - 1)) * np.log(tau)\n",
    "        ) / (\n",
    "            ((tau + 1) * (tau - λ)) / (2) - ((1 - λ) * (tau ** 3 - 1)) / (3 * (tau - 1))\n",
    "        )\n",
    "        \n",
    "        # Auxiliary functions\n",
    "\n",
    "        # Defines beta parameter\n",
    "        def beta(mach):\n",
    "            if mach < 0.8:\n",
    "                return np.sqrt(1 - mach ** 2)\n",
    "            elif mach < 1.1:\n",
    "                return np.sqrt(1 - 0.8 ** 2)\n",
    "            else:\n",
    "                return np.sqrt(mach ** 2 - 1)\n",
    "\n",
    "        # Defines number of fins correction\n",
    "        def finNumCorrection(n):\n",
    "            correctorFactor = [2.37, 2.74, 2.99, 3.24]\n",
    "            if n >= 5 and n <= 8:\n",
    "                return correctorFactor[n - 5]\n",
    "            else:\n",
    "                return n / 2\n",
    "\n",
    "        if not self.airfoil:\n",
    "            # Defines clalpha2D as 2*pi for planar fins\n",
    "            clalpha2D = Function(lambda mach: 2 * np.pi / beta(mach))\n",
    "        else:\n",
    "            # Defines clalpha2D as the derivative of the\n",
    "            # lift coefficient curve for a specific airfoil\n",
    "            airfoilCl = Function(\n",
    "                self.airfoil[0],\n",
    "                interpolation=\"linear\",\n",
    "            )\n",
    "\n",
    "            # Differentiating at x = 0 to get cl_alpha\n",
    "            clalpha2D_Mach0 = airfoilCl.differentiate(x=1e-3, dx=1e-3)\n",
    "\n",
    "            # Convert to radians if needed\n",
    "            if self.airfoil[1] == \"degrees\":\n",
    "                clalpha2D_Mach0 *= 180 / np.pi\n",
    "\n",
    "            # Correcting for compressible flow\n",
    "            clalpha2D = Function(lambda mach: clalpha2D_Mach0 / beta(mach))\n",
    "\n",
    "        if self.type == 'trapezoildal':\n",
    "\n",
    "            # Diederich's Planform Correlation Parameter\n",
    "            FD = (2*np.pi * AR) / (clalpha2D * np.cos(gamac))\n",
    "\n",
    "            clalphaSingleFin = Function(lambda mach: ( clalpha2D(mach) * FD(mach) * (Af / Aref) * np.cos(gamac))/(2 + FD(mach) * np.sqrt(1 + 4 / FD(mach)**2)))\n",
    "            \n",
    "\n",
    "            clalphaMultipleFins = (\n",
    "                liftInterferenceFactor * finNumCorrection(n) * clalphaSingleFin\n",
    "            )  # Function of mach number\n",
    "\n",
    "            # Calculates clalpha * alpha\n",
    "            cl = Function(\n",
    "                lambda alpha, mach: alpha * clalphaMultipleFins(mach),\n",
    "                [\"Alpha (rad)\", \"Mach\"],\n",
    "                \"Cl\",\n",
    "            )\n",
    "\n",
    "            # Save cldata\n",
    "            self.cl = cl\n",
    "\n",
    "            # Calculate roll forcing properties\n",
    "            Ymac = s / 3 * (Cr + 2 * Ct) / (Cr + Ct)\n",
    "            clfDelta = (\n",
    "                rollForcingInterferenceFactor * n * (Ymac + radius) * clalphaSingleFin(0) / d\n",
    "            ) \n",
    "\n",
    "            clfdata = Function(\n",
    "                lambda delta: clfDelta * np.radians(delta), \"Delta (rad)\", \"Roll forcing coeficient (Clf)\", interpolation=\"linear\"\n",
    "            )\n",
    "\n",
    "            # Save clfdata\n",
    "            self.clfdata = clfdata\n",
    "\n",
    "            cldOmega =  Function(lambda cantAngle: 2 * rollDampingInterferenceFactor * n * clalphaSingleFin(0) * np.cos(np.radians(cantAngle)) * trapezoidalConstant / (Aref * d ** 2))\n",
    "            cldOmegaData = Function(lambda w, v, cantAngle: cldOmega(cantAngle) * w * d / (2*v))\n",
    "            self.cld_data = cldOmegaData\n",
    "\n",
    "            return None\n",
    "        \n",
    "        else:\n",
    "\n",
    "            # Diederich's Planform Correlation Parameter\n",
    "            FD = (2*np.pi * AR) / (clalpha2D * np.cos(gamac))\n",
    "\n",
    "            clalphaSingleFin = Function(lambda mach: ( clalpha2D(mach) * FD(mach) * (Af / Aref) * np.cos(gamac))/(2 + FD(mach) * np.sqrt(1 + 4 / FD(mach)**2)))\n",
    "            \n",
    "\n",
    "            clalphaMultipleFins = (\n",
    "                liftInterferenceFactor * finNumCorrection(n) * clalphaSingleFin\n",
    "            )  # Function of mach number\n",
    "\n",
    "            # Calculates clalpha * alpha\n",
    "            cl = Function(\n",
    "                lambda alpha, mach: alpha * clalphaMultipleFins(mach),\n",
    "                [\"Alpha (rad)\", \"Mach\"],\n",
    "                \"Cl\",\n",
    "            )\n",
    "\n",
    "            # Save cldata\n",
    "            self.cl = cl\n",
    "\n",
    "            # Calculate roll forcing properties\n",
    "            Ymac = s/(3*np.pi) * np.sqrt(9*np.pi**2 - 64)\n",
    "            clfDelta = (\n",
    "                rollForcingInterferenceFactor * n * (Ymac + radius) * clalphaSingleFin(0) / d\n",
    "            )# Function of mach\n",
    "\n",
    "            clfdata = Function(\n",
    "                lambda delta: clfDelta * np.radians(delta), \"Delta (rad)\", \"Roll forcing coeficient (Clf)\", interpolation=\"linear\"\n",
    "            )\n",
    "\n",
    "            # Save clfdata\n",
    "            self.clfdata = clfdata\n",
    "\n",
    "            cldOmega =  Function(lambda cantAngle: 2 * rollDampingInterferenceFactor * n * clalphaSingleFin(0) * np.cos(np.radians(cantAngle)) * ellipsoidalConstant / (Aref * d ** 2))\n",
    "            cldOmegaData = Function(lambda w, v, cantAngle: cldOmega(cantAngle) * w * d / (2*v))\n",
    "            self.cld_data = cldOmegaData\n",
    "\n",
    "            return None"
   ]
  },
  {
   "cell_type": "markdown",
   "metadata": {},
   "source": [
    "## Inserção de dados"
   ]
  },
  {
   "cell_type": "code",
   "execution_count": 4,
   "metadata": {},
   "outputs": [],
   "source": [
    "# Dados das aletas\n",
    "n = 4\n",
    "span = 0.125\n",
    "rootChord = 0.120\n",
    "tipChord = 0.08\n",
    "\n",
    "# Dados das canards\n",
    "n_canard = 2\n",
    "span_canard = 0.062\n",
    "rootChord_canard = 0.062\n",
    "tipChord_canard = 0.062\n",
    "\n",
    "# Dados do foguete\n",
    "radius = 101.6/2000"
   ]
  },
  {
   "cell_type": "markdown",
   "metadata": {},
   "source": [
    "## Criando as aletas e canards"
   ]
  },
  {
   "cell_type": "code",
   "execution_count": 13,
   "metadata": {},
   "outputs": [
    {
     "data": {
      "text/plain": [
       "3.555380410722678"
      ]
     },
     "execution_count": 13,
     "metadata": {},
     "output_type": "execute_result"
    }
   ],
   "source": [
    "Function(lambda alpha: canard.cl(alpha,0)).differentiate(0,1e-6)"
   ]
  },
  {
   "cell_type": "code",
   "execution_count": 12,
   "metadata": {},
   "outputs": [
    {
     "data": {
      "image/png": "[encoded data removed]",
      "text/plain": [
       "<Figure size 432x288 with 1 Axes>"
      ]
     },
     "metadata": {
      "needs_background": "light"
     },
     "output_type": "display_data"
    },
    {
     "data": {
      "image/png": "[encoded data removed]",
      "text/plain": [
       "<Figure size 432x288 with 1 Axes>"
      ]
     },
     "metadata": {
      "needs_background": "light"
     },
     "output_type": "display_data"
    },
    {
     "data": {
      "image/png": "[encoded data removed]",
      "text/plain": [
       "<Figure size 432x288 with 1 Axes>"
      ]
     },
     "metadata": {
      "needs_background": "light"
     },
     "output_type": "display_data"
    },
    {
     "data": {
      "image/png": "[encoded data removed]",
      "text/plain": [
       "<Figure size 432x288 with 1 Axes>"
      ]
     },
     "metadata": {
      "needs_background": "light"
     },
     "output_type": "display_data"
    }
   ],
   "source": [
    "# Criando objeto correspondente à aleta\n",
    "dictAleta = {'rootChord': rootChord,'span': span,'tipChord': tipChord}\n",
    "dictCanard ={'rootChord': rootChord_canard,'span': span_canard,'tipChord': tipChord_canard}\n",
    "\n",
    "aleta = Canard('trapezoildal', n, dictAleta, radius, ('NACA0012 curva Completa.txt','radians'))\n",
    "canard = Canard('trapezoildal', n_canard, dictCanard, radius, ('xf-e473-il-1000000.csv','degrees'))\n",
    "Function(lambda alpha: aleta.cl(alpha,0),'alpha','cl').plot(0,20 * np.pi / 180)\n",
    "aleta.clfdata()\n",
    "Function(lambda alpha: canard.cl(alpha,0),'alpha','cl').plot(0,20 * np.pi / 180)\n",
    "canard.clfdata()"
   ]
  },
  {
   "cell_type": "markdown",
   "metadata": {},
   "source": [
    "## Comparação"
   ]
  },
  {
   "cell_type": "markdown",
   "metadata": {},
   "source": [
    "### Entradas da comparação"
   ]
  },
  {
   "cell_type": "code",
   "execution_count": 15,
   "metadata": {},
   "outputs": [],
   "source": [
    "# Dados do foguete\n",
    "J = 0.03421  # Momento de inercia (SI)\n",
    "angulo_maximo_de_abertura = 1\n",
    "angulo_maximo_de_abertura_canard = 8\n",
    "\n",
    "# Dados sobre a condição de voo analisada\n",
    "omega = 0 # rad/s (pior caso para as canards é próximo de 0 sem a ajuda do amortecimento)\n",
    "velocidade = 0.5 * 343 # Mach 0.5\n",
    "rho = 1.06 # air density"
   ]
  },
  {
   "cell_type": "markdown",
   "metadata": {},
   "source": [
    "### Contas"
   ]
  },
  {
   "cell_type": "code",
   "execution_count": 16,
   "metadata": {},
   "outputs": [
    {
     "name": "stdout",
     "output_type": "stream",
     "text": [
      "Aceleração angular para V=172m/s é: ὡ = -71.55rad/s²\n",
      "Nota 1: Deseja-se que a aceleração seja negativa para que a canard seja capaz de estabilizar o foguete\n"
     ]
    }
   ],
   "source": [
    "# Parametros das aletas\n",
    "forcing_aletas = aleta.clfdata(angulo_maximo_de_abertura)\n",
    "damping_aletas = aleta.cld_data(omega, velocidade,angulo_maximo_de_abertura)\n",
    "\n",
    "# Parametros das canards\n",
    "forcing_canard = canard.clfdata(angulo_maximo_de_abertura_canard)\n",
    "damping_canard = canard.cld_data(omega, velocidade,angulo_maximo_de_abertura_canard)\n",
    "\n",
    "# Parametros de voo\n",
    "DynamicPressure = velocidade**2 * rho / 2\n",
    "\n",
    "# Aceleração obtida\n",
    "Ar = aleta.area # Área de referencia\n",
    "Lr = 2 * aleta.radius # Comprimento de referencia\n",
    "omega_dot = (forcing_aletas - forcing_canard - damping_aletas - damping_canard) * DynamicPressure * Ar * Lr / J\n",
    "\n",
    "print(\"Aceleração angular para V={:.0f}m/s é: ὡ = {:.2f}rad/s²\".format(velocidade, omega_dot))\n",
    "print(\"Nota 1: Deseja-se que a aceleração seja negativa para que a canard seja capaz de estabilizar o foguete\")"
   ]
  },
  {
   "cell_type": "markdown",
   "metadata": {},
   "source": [
    "## Testando tamanhos de Canard"
   ]
  },
  {
   "cell_type": "code",
   "execution_count": 60,
   "metadata": {},
   "outputs": [
    {
     "name": "stdout",
     "output_type": "stream",
     "text": [
      "Aceleração angular para V=172m/s é: ὡ = -23.97rad/s²\n",
      "Nota 1: Deseja-se que a aceleração seja negativa para que a canard seja capaz de estabilizar o foguete\n",
      "Nota 2: Deve-se checar a posição do centro de pressão da canard em relação ao seu centro de massa. Deseja-se que o cp esteja abaixo do cp para que o momento gerado na própria canard seja restaurador em relação ao eixo que a perfura\n"
     ]
    }
   ],
   "source": [
    "# Dados das aletas\n",
    "n = 4\n",
    "span = 0.125\n",
    "rootChord = 0.120\n",
    "tipChord = 0.08\n",
    "\n",
    "# Dados das canards\n",
    "n_canard = 2\n",
    "span_canard = 0.055\n",
    "rootChord_canard = 0.055\n",
    "tipChord_canard = 0.055\n",
    "\n",
    "# Dados do foguete\n",
    "radius = 101.6/2000\n",
    "\n",
    "# Criando objeto correspondente à aleta\n",
    "dictAleta = {'rootChord': rootChord,'span': span,'tipChord': tipChord}\n",
    "dictCanard ={'rootChord': rootChord_canard,'span': span_canard,'tipChord': tipChord_canard}\n",
    "aleta = Canard('trapezoildal', n, dictAleta, radius, ('NACA0012 curva Completa.txt','radians'))\n",
    "canard = Canard('trapezoildal', n_canard, dictCanard, radius, ('xf-e473-il-1000000.csv','degrees'))\n",
    "\n",
    "# Dados do foguete\n",
    "J = 0.03421 # Momento de inercia (SI)\n",
    "angulo_maximo_de_abertura = 1\n",
    "angulo_maximo_de_abertura_canard = 8\n",
    "\n",
    "# Dados sobre a condição de voo analisada\n",
    "omega = 0 # rad/s (pior caso para as canards é próximo de 0 sem a ajuda do amortecimento)\n",
    "velocidade = 0.5 * 343 # Mach 0.5\n",
    "rho = 1.06 # air density\n",
    "\n",
    "# Parametros das aletas\n",
    "forcing_aletas = aleta.clfdata(angulo_maximo_de_abertura)\n",
    "damping_aletas = aleta.cld_data(omega, velocidade,angulo_maximo_de_abertura)\n",
    "\n",
    "# Parametros das canards\n",
    "forcing_canard = canard.clfdata(angulo_maximo_de_abertura_canard)\n",
    "damping_canard = canard.cld_data(omega, velocidade,angulo_maximo_de_abertura_canard)\n",
    "\n",
    "# Parametros de voo\n",
    "DynamicPressure = velocidade**2 * rho / 2\n",
    "\n",
    "# Aceleração obtida\n",
    "Ar = aleta.area # Área de referencia\n",
    "Lr = 2 * aleta.radius # Comprimento de referencia\n",
    "omega_dot = (forcing_aletas - forcing_canard - damping_aletas - damping_canard) * DynamicPressure * Ar * Lr / J\n",
    "\n",
    "print(\"Aceleração angular para V={:.0f}m/s é: ὡ = {:.2f}rad/s²\".format(velocidade, omega_dot))\n",
    "print(\"Nota 1: Deseja-se que a aceleração seja negativa para que a canard seja capaz de estabilizar o foguete\")\n",
    "print(\"Nota 2: Deve-se checar a posição do centro de pressão da canard em relação ao seu centro de massa. Deseja-se que o cp esteja abaixo do cp para que o momento gerado na própria canard seja restaurador em relação ao eixo que a perfura\")"
   ]
  },
  {
   "cell_type": "code",
   "execution_count": 33,
   "metadata": {},
   "outputs": [
    {
     "data": {
      "text/plain": [
       "-1.2514821690375504"
      ]
     },
     "execution_count": 33,
     "metadata": {},
     "output_type": "execute_result"
    }
   ],
   "source": [
    "omega_max = 30 #rad/s\n",
    "omega_max/omega_dot #segundo, tempo que leva para chegar em zero"
   ]
  },
  {
   "cell_type": "code",
   "execution_count": 44,
   "metadata": {},
   "outputs": [
    {
     "name": "stdout",
     "output_type": "stream",
     "text": [
      "-4.1712493232 Nm\n",
      "-42.5349056321 kgfcm\n"
     ]
    }
   ],
   "source": [
    "tanto_que_o_eixo_fica_pra_fora = 0.02\n",
    "Mf = omega_dot * J / (101.6/2000 + 0.055/2 + (tanto_que_o_eixo_fica_pra_fora)) / 2\n",
    "Mf # Nm\n",
    "print(\"{:.10f} Nm\".format(Mf))\n",
    "print(\"{:.10f} kgfcm\".format(Mf*10.197162129779283))"
   ]
  },
  {
   "cell_type": "code",
   "execution_count": 45,
   "metadata": {},
   "outputs": [
    {
     "data": {
      "text/plain": [
       "0.12310264169999999"
      ]
     },
     "execution_count": 45,
     "metadata": {},
     "output_type": "execute_result"
    }
   ],
   "source": [
    "0.0410342139 * 3\n"
   ]
  },
  {
   "cell_type": "code",
   "execution_count": 57,
   "metadata": {},
   "outputs": [
    {
     "data": {
      "text/plain": [
       "0.8660254037844386"
      ]
     },
     "execution_count": 57,
     "metadata": {},
     "output_type": "execute_result"
    }
   ],
   "source": [
    "(abs(1-0.5**2))**(1/2)"
   ]
  },
  {
   "cell_type": "code",
   "execution_count": 64,
   "metadata": {},
   "outputs": [
    {
     "data": {
      "text/plain": [
       "0.39868263516009894"
      ]
     },
     "execution_count": 64,
     "metadata": {},
     "output_type": "execute_result"
    }
   ],
   "source": [
    "canard.cl(8*np.pi/180,0)"
   ]
  },
  {
   "cell_type": "code",
   "execution_count": 70,
   "metadata": {},
   "outputs": [
    {
     "data": {
      "text/plain": [
       "52.42557841947523"
      ]
     },
     "execution_count": 70,
     "metadata": {},
     "output_type": "execute_result"
    }
   ],
   "source": [
    "MaxNormalForce"
   ]
  },
  {
   "cell_type": "code",
   "execution_count": 69,
   "metadata": {},
   "outputs": [
    {
     "data": {
      "text/plain": [
       "0.02475"
      ]
     },
     "execution_count": 69,
     "metadata": {},
     "output_type": "execute_result"
    }
   ],
   "source": [
    "0.055*0.7 - canard.cpFins"
   ]
  },
  {
   "cell_type": "code",
   "execution_count": 66,
   "metadata": {},
   "outputs": [
    {
     "data": {
      "text/plain": [
       "0.01375"
      ]
     },
     "execution_count": 66,
     "metadata": {},
     "output_type": "execute_result"
    }
   ],
   "source": [
    "canard.cpFins"
   ]
  },
  {
   "cell_type": "code",
   "execution_count": 65,
   "metadata": {},
   "outputs": [
    {
     "name": "stdout",
     "output_type": "stream",
     "text": [
      "Applied torque = 1.298 Nm\n",
      "Applied torque = 13.235 kgfcm\n",
      "Valores negativos significa que o centro de pressão está acima do centro de massa\n"
     ]
    }
   ],
   "source": [
    "MaxNormalForce = canard.cl(8*np.pi/180,0.5) * DynamicPressure * Ar\n",
    "\n",
    "XCgFins = 0.055*0.7\n",
    "\n",
    "MaxTorque = MaxNormalForce * (XCgFins - canard.cpFins)\n",
    "\n",
    "print(\"Applied torque = {:.3f} Nm\".format(MaxTorque))\n",
    "print(\"Applied torque = {:.3f} kgfcm\".format(MaxTorque*10.2))\n",
    "print(\"Valores negativos significa que o centro de pressão está acima do centro de massa\")"
   ]
  },
  {
   "cell_type": "code",
   "execution_count": null,
   "metadata": {},
   "outputs": [],
   "source": []
  }
 ],
 "metadata": {
  "kernelspec": {
   "display_name": "Python 3.10.5 64-bit",
   "language": "python",
   "name": "python3"
  },
  "language_info": {
   "codemirror_mode": {
    "name": "ipython",
    "version": 3
   },
   "file_extension": ".py",
   "mimetype": "text/x-python",
   "name": "python",
   "nbconvert_exporter": "python",
   "pygments_lexer": "ipython3",
   "version": "3.10.5"
  },
  "orig_nbformat": 4,
  "vscode": {
   "interpreter": {
    "hash": "26de051ba29f2982a8de78e945f0abaf191376122a1563185a90213a26c5da77"
   }
  }
 },
 "nbformat": 4,
 "nbformat_minor": 2
}
